{
 "cells": [
  {
   "cell_type": "code",
   "execution_count": 10,
   "id": "ffb60d80",
   "metadata": {},
   "outputs": [],
   "source": [
    "import os\n",
    "from pathlib import Path"
   ]
  },
  {
   "cell_type": "code",
   "execution_count": 29,
   "id": "f514c6b9",
   "metadata": {},
   "outputs": [],
   "source": [
    "def listfiles():\n",
    "    'List all the files in current workdir'\n",
    "    files = os.listdir('.')  # Lists all files and directories in the current directory\n",
    "    print('Files in this dir:\\n')\n",
    "    for file in files:\n",
    "        print(file)\n",
    "    return files"
   ]
  },
  {
   "cell_type": "code",
   "execution_count": 30,
   "id": "0df85ff1",
   "metadata": {},
   "outputs": [
    {
     "name": "stdout",
     "output_type": "stream",
     "text": [
      "Files in this dir:\n",
      "\n",
      "PyDebate_Logo_Idea 1.jpg\n",
      "PyDebate_Logo_Idea 2.jpg\n",
      "PyDebate_Logo_Idea 3.jpg\n",
      "PyDebate_Logo_Idea 4.jpg\n",
      "PyDebate_Logo_Idea 5.jpg\n",
      "PyDebate_Logo_Idea 6.jpg\n",
      "PyDebate_Logo_Idea 7.jpg\n",
      "PyDebate_Logo_Idea 8.jpg\n",
      "PyDebate_Logo_Idea 9.jpg\n"
     ]
    }
   ],
   "source": [
    "files = listfiles()"
   ]
  },
  {
   "cell_type": "code",
   "execution_count": 18,
   "id": "729f4618",
   "metadata": {},
   "outputs": [],
   "source": [
    "os.chdir('Logos')"
   ]
  },
  {
   "cell_type": "code",
   "execution_count": 31,
   "id": "7627c78c",
   "metadata": {},
   "outputs": [
    {
     "name": "stdout",
     "output_type": "stream",
     "text": [
      "Files in this dir:\n",
      "\n",
      "PyDebate_Logo_Idea 1.jpg\n",
      "PyDebate_Logo_Idea 2.jpg\n",
      "PyDebate_Logo_Idea 3.jpg\n",
      "PyDebate_Logo_Idea 4.jpg\n",
      "PyDebate_Logo_Idea 5.jpg\n",
      "PyDebate_Logo_Idea 6.jpg\n",
      "PyDebate_Logo_Idea 7.jpg\n",
      "PyDebate_Logo_Idea 8.jpg\n",
      "PyDebate_Logo_Idea 9.jpg\n"
     ]
    }
   ],
   "source": [
    "logofiles = listfiles()"
   ]
  },
  {
   "cell_type": "code",
   "execution_count": 32,
   "id": "59624894",
   "metadata": {
    "scrolled": true
   },
   "outputs": [
    {
     "ename": "AttributeError",
     "evalue": "'str' object has no attribute 'is_file'",
     "output_type": "error",
     "traceback": [
      "\u001b[1;31m---------------------------------------------------------------------------\u001b[0m",
      "\u001b[1;31mAttributeError\u001b[0m                            Traceback (most recent call last)",
      "Cell \u001b[1;32mIn[32], line 3\u001b[0m\n\u001b[0;32m      1\u001b[0m \u001b[38;5;66;03m# Rename files sequentially\u001b[39;00m\n\u001b[0;32m      2\u001b[0m \u001b[38;5;28;01mfor\u001b[39;00m i, file \u001b[38;5;129;01min\u001b[39;00m \u001b[38;5;28menumerate\u001b[39m(logofiles, start\u001b[38;5;241m=\u001b[39m\u001b[38;5;241m1\u001b[39m):\n\u001b[1;32m----> 3\u001b[0m     \u001b[38;5;28;01mif\u001b[39;00m \u001b[43mfile\u001b[49m\u001b[38;5;241;43m.\u001b[39;49m\u001b[43mis_file\u001b[49m():  \u001b[38;5;66;03m# Ensure it's a file\u001b[39;00m\n\u001b[0;32m      4\u001b[0m         new_name \u001b[38;5;241m=\u001b[39m \u001b[38;5;124mf\u001b[39m\u001b[38;5;124m\"\u001b[39m\u001b[38;5;124mPyDebate_Logo_Idea \u001b[39m\u001b[38;5;132;01m{\u001b[39;00mi\u001b[38;5;132;01m}\u001b[39;00m\u001b[38;5;132;01m{\u001b[39;00mfile\u001b[38;5;241m.\u001b[39msuffix\u001b[38;5;132;01m}\u001b[39;00m\u001b[38;5;124m\"\u001b[39m  \u001b[38;5;66;03m# Keep original extension\u001b[39;00m\n\u001b[0;32m      5\u001b[0m         file\u001b[38;5;241m.\u001b[39mrename(file\u001b[38;5;241m.\u001b[39mparent \u001b[38;5;241m/\u001b[39m new_name)\n",
      "\u001b[1;31mAttributeError\u001b[0m: 'str' object has no attribute 'is_file'"
     ]
    }
   ],
   "source": [
    "# Rename files sequentially\n",
    "for i, file in enumerate(files, start=1):\n",
    "    if file.is_file():  # Ensure it's a file\n",
    "        new_name = f\"PyDebate_Logo_Idea {i}{file.suffix}\"  # Keep original extension\n",
    "        file.rename(file.parent / new_name)\n",
    "        print(f\"Renamed: {file.name} → {new_name}\")"
   ]
  },
  {
   "cell_type": "code",
   "execution_count": 14,
   "id": "c35c0e53",
   "metadata": {},
   "outputs": [
    {
     "name": "stdout",
     "output_type": "stream",
     "text": [
      ".ipynb_checkpoints\n",
      "A circular red shape around the golden letters_ Py Debate  where the Y resembles a greek person. (1).jpg\n",
      "FileRenamer.ipynb\n",
      "PyDebate_Logo_Idea 1.jpg\n",
      "PyDebate_Logo_Idea 2.jpg\n",
      "PyDebate_Logo_Idea 3.jpg\n",
      "PyDebate_Logo_Idea 4.jpg\n",
      "PyDebate_Logo_Idea 5.jpg\n",
      "PyDebate_Logo_Idea 6.jpg\n",
      "PyDebate_Logo_Idea 7.jpg\n",
      "PyDebate_Logo_Idea 8.jpg\n"
     ]
    }
   ],
   "source": [
    "files = os.listdir('.')  # Lists all files and directories in the current directory\n",
    "for file in files:\n",
    "    print(file)"
   ]
  }
 ],
 "metadata": {
  "kernelspec": {
   "display_name": "Python 3 (ipykernel)",
   "language": "python",
   "name": "python3"
  },
  "language_info": {
   "codemirror_mode": {
    "name": "ipython",
    "version": 3
   },
   "file_extension": ".py",
   "mimetype": "text/x-python",
   "name": "python",
   "nbconvert_exporter": "python",
   "pygments_lexer": "ipython3",
   "version": "3.10.9"
  }
 },
 "nbformat": 4,
 "nbformat_minor": 5
}
